{
 "cells": [
  {
   "cell_type": "code",
   "execution_count": null,
   "metadata": {},
   "outputs": [
    {
     "name": "stdout",
     "output_type": "stream",
     "text": [
      "['2330 4627', 'Glasgow is marginally better than', 'Edinburgh']\n",
      "23304627\n",
      "5768627 To do\n",
      "5768628 In progress\n",
      "5768629 Done\n",
      "5770506 From AppName\n"
     ]
    },
    {
     "name": "stderr",
     "output_type": "stream",
     "text": [
      "INFO: ('127.0.0.1', 61042) - \"POST /getText HTTP/1.1\" 200\n"
     ]
    },
    {
     "name": "stdout",
     "output_type": "stream",
     "text": [
      "{'url': 'https://api.github.com/projects/columns/cards/23315240', 'project_url': 'https://api.github.com/projects/2841426', 'id': 23315240, 'node_id': 'MDExOlByb2plY3RDYXJkMjMzMTUyNDA=', 'note': 'Glasgow is marginally better than Edinburgh', 'archived': False, 'creator': {'login': 'itv-canterlot', 'id': 16254515, 'node_id': 'MDQ6VXNlcjE2MjU0NTE1', 'avatar_url': 'https://avatars2.githubusercontent.com/u/16254515?v=4', 'gravatar_id': '', 'url': 'https://api.github.com/users/itv-canterlot', 'html_url': 'https://github.com/itv-canterlot', 'followers_url': 'https://api.github.com/users/itv-canterlot/followers', 'following_url': 'https://api.github.com/users/itv-canterlot/following{/other_user}', 'gists_url': 'https://api.github.com/users/itv-canterlot/gists{/gist_id}', 'starred_url': 'https://api.github.com/users/itv-canterlot/starred{/owner}{/repo}', 'subscriptions_url': 'https://api.github.com/users/itv-canterlot/subscriptions', 'organizations_url': 'https://api.github.com/users/itv-canterlot/orgs', 'repos_url': 'https://api.github.com/users/itv-canterlot/repos', 'events_url': 'https://api.github.com/users/itv-canterlot/events{/privacy}', 'received_events_url': 'https://api.github.com/users/itv-canterlot/received_events', 'type': 'User', 'site_admin': False}, 'created_at': '2019-06-27T19:09:57Z', 'updated_at': '2019-06-27T19:09:57Z', 'column_url': 'https://api.github.com/projects/columns/5770506'}\n",
      "['10267145', 'This bug needs to be fixed!']\n",
      "10267145\n",
      "5768627 To do\n",
      "5768628 In progress\n",
      "5768629 Done\n",
      "5770506 From AppName\n"
     ]
    },
    {
     "name": "stderr",
     "output_type": "stream",
     "text": [
      "INFO: ('127.0.0.1', 61194) - \"POST /getText HTTP/1.1\" 200\n"
     ]
    },
    {
     "name": "stdout",
     "output_type": "stream",
     "text": [
      "{'url': 'https://api.github.com/projects/columns/cards/23315474', 'project_url': 'https://api.github.com/projects/2841426', 'id': 23315474, 'node_id': 'MDExOlByb2plY3RDYXJkMjMzMTU0NzQ=', 'note': 'This bug needs to be fixed!', 'archived': False, 'creator': {'login': 'itv-canterlot', 'id': 16254515, 'node_id': 'MDQ6VXNlcjE2MjU0NTE1', 'avatar_url': 'https://avatars2.githubusercontent.com/u/16254515?v=4', 'gravatar_id': '', 'url': 'https://api.github.com/users/itv-canterlot', 'html_url': 'https://github.com/itv-canterlot', 'followers_url': 'https://api.github.com/users/itv-canterlot/followers', 'following_url': 'https://api.github.com/users/itv-canterlot/following{/other_user}', 'gists_url': 'https://api.github.com/users/itv-canterlot/gists{/gist_id}', 'starred_url': 'https://api.github.com/users/itv-canterlot/starred{/owner}{/repo}', 'subscriptions_url': 'https://api.github.com/users/itv-canterlot/subscriptions', 'organizations_url': 'https://api.github.com/users/itv-canterlot/orgs', 'repos_url': 'https://api.github.com/users/itv-canterlot/repos', 'events_url': 'https://api.github.com/users/itv-canterlot/events{/privacy}', 'received_events_url': 'https://api.github.com/users/itv-canterlot/received_events', 'type': 'User', 'site_admin': False}, 'created_at': '2019-06-27T19:15:48Z', 'updated_at': '2019-06-27T19:15:48Z', 'column_url': 'https://api.github.com/projects/columns/5770506'}\n",
      "['10267145', 'This bug needs to be fixed!']\n",
      "10267145\n",
      "5768627 To do\n",
      "5768628 In progress\n",
      "5768629 Done\n",
      "5770506 From AppName\n"
     ]
    },
    {
     "name": "stderr",
     "output_type": "stream",
     "text": [
      "INFO: ('127.0.0.1', 61211) - \"POST /getText HTTP/1.1\" 200\n"
     ]
    },
    {
     "name": "stdout",
     "output_type": "stream",
     "text": [
      "{'url': 'https://api.github.com/projects/columns/cards/23315503', 'project_url': 'https://api.github.com/projects/2841426', 'id': 23315503, 'node_id': 'MDExOlByb2plY3RDYXJkMjMzMTU1MDM=', 'note': 'This bug needs to be fixed!', 'archived': False, 'creator': {'login': 'itv-canterlot', 'id': 16254515, 'node_id': 'MDQ6VXNlcjE2MjU0NTE1', 'avatar_url': 'https://avatars2.githubusercontent.com/u/16254515?v=4', 'gravatar_id': '', 'url': 'https://api.github.com/users/itv-canterlot', 'html_url': 'https://github.com/itv-canterlot', 'followers_url': 'https://api.github.com/users/itv-canterlot/followers', 'following_url': 'https://api.github.com/users/itv-canterlot/following{/other_user}', 'gists_url': 'https://api.github.com/users/itv-canterlot/gists{/gist_id}', 'starred_url': 'https://api.github.com/users/itv-canterlot/starred{/owner}{/repo}', 'subscriptions_url': 'https://api.github.com/users/itv-canterlot/subscriptions', 'organizations_url': 'https://api.github.com/users/itv-canterlot/orgs', 'repos_url': 'https://api.github.com/users/itv-canterlot/repos', 'events_url': 'https://api.github.com/users/itv-canterlot/events{/privacy}', 'received_events_url': 'https://api.github.com/users/itv-canterlot/received_events', 'type': 'User', 'site_admin': False}, 'created_at': '2019-06-27T19:16:27Z', 'updated_at': '2019-06-27T19:16:27Z', 'column_url': 'https://api.github.com/projects/columns/5770506'}\n",
      "['10267145', 'This bug needs to be fixed!']\n",
      "10267145\n",
      "5768627 To do\n",
      "5768628 In progress\n",
      "5768629 Done\n",
      "5770506 From AppName\n"
     ]
    },
    {
     "name": "stderr",
     "output_type": "stream",
     "text": [
      "INFO: ('127.0.0.1', 61240) - \"POST /getText HTTP/1.1\" 200\n"
     ]
    },
    {
     "name": "stdout",
     "output_type": "stream",
     "text": [
      "{'url': 'https://api.github.com/projects/columns/cards/23315544', 'project_url': 'https://api.github.com/projects/2841426', 'id': 23315544, 'node_id': 'MDExOlByb2plY3RDYXJkMjMzMTU1NDQ=', 'note': 'This bug needs to be fixed!', 'archived': False, 'creator': {'login': 'itv-canterlot', 'id': 16254515, 'node_id': 'MDQ6VXNlcjE2MjU0NTE1', 'avatar_url': 'https://avatars2.githubusercontent.com/u/16254515?v=4', 'gravatar_id': '', 'url': 'https://api.github.com/users/itv-canterlot', 'html_url': 'https://github.com/itv-canterlot', 'followers_url': 'https://api.github.com/users/itv-canterlot/followers', 'following_url': 'https://api.github.com/users/itv-canterlot/following{/other_user}', 'gists_url': 'https://api.github.com/users/itv-canterlot/gists{/gist_id}', 'starred_url': 'https://api.github.com/users/itv-canterlot/starred{/owner}{/repo}', 'subscriptions_url': 'https://api.github.com/users/itv-canterlot/subscriptions', 'organizations_url': 'https://api.github.com/users/itv-canterlot/orgs', 'repos_url': 'https://api.github.com/users/itv-canterlot/repos', 'events_url': 'https://api.github.com/users/itv-canterlot/events{/privacy}', 'received_events_url': 'https://api.github.com/users/itv-canterlot/received_events', 'type': 'User', 'site_admin': False}, 'created_at': '2019-06-27T19:17:28Z', 'updated_at': '2019-06-27T19:17:28Z', 'column_url': 'https://api.github.com/projects/columns/5770506'}\n"
     ]
    }
   ],
   "source": [
    "import requests\n",
    "import base64\n",
    "from starlette.applications import Starlette\n",
    "from starlette.responses import HTMLResponse, JSONResponse\n",
    "from starlette.middleware.cors import CORSMiddleware\n",
    "import uvicorn, aiohttp, asyncio\n",
    "import github_conn\n",
    "\n",
    "# application init\n",
    "app = Starlette()\n",
    "app.add_middleware(CORSMiddleware, allow_origins=['*'], allow_headers=['X-Requested-With', 'Content-Type'])\n",
    "\n",
    "subscription_key = \"1de9548a300042d1a8c5bf4d1f8233b6\"\n",
    "vision_base_url = \"https://westcentralus.api.cognitive.microsoft.com/vision/v2.0/\"\n",
    "text_recognition_url = vision_base_url + \"read/core/asyncBatchAnalyze\"\n",
    "headers = {'Ocp-Apim-Subscription-Key': subscription_key, 'Content-Type': 'application/octet-stream'}\n",
    "\n",
    "@app.route('/')\n",
    "def index(request):\n",
    "    return HTMLResponse(\"Hello World\")\n",
    "\n",
    "@app.route('/getText', methods=['POST'])\n",
    "async def get_text(request):\n",
    "#     req_form = await request.form()\n",
    "#     data = await (req_form['file'].read())\n",
    "    \n",
    "    body = await request.body()\n",
    "    \n",
    "    data = base64.b64decode(body)\n",
    "    \n",
    "    response = requests.post(\n",
    "        text_recognition_url,\n",
    "        headers=headers,\n",
    "        data=data)\n",
    "    \n",
    "    response.raise_for_status()\n",
    "    analysis = {}\n",
    "    poll = True\n",
    "    \n",
    "    while (poll):\n",
    "        response_final = requests.get(response.headers[\"Operation-Location\"], headers=headers)\n",
    "        analysis = response_final.json()\n",
    "\n",
    "        if (\"recognitionResults\" in analysis):\n",
    "            poll = False\n",
    "        if (\"status\" in analysis and analysis['status'] == 'Failed'):\n",
    "            poll = False\n",
    "    \n",
    "    if (\"recognitionResults\" in analysis):\n",
    "        texts = [line[\"text\"] for line in analysis[\"recognitionResults\"][0][\"lines\"]]\n",
    "        print(texts)\n",
    "\n",
    "        card_id = texts[0].replace(\" \", \"\")\n",
    "        print(card_id)\n",
    "\n",
    "        if (card_id.isdigit()):\n",
    "            note = \" \".join(texts[1:])\n",
    "        else:\n",
    "            note = \" \".join(texts)\n",
    "            card_id = 0\n",
    "\n",
    "        project_id = 2841426\n",
    "        github_conn.update_card_by_id(project_id, card_id, note)\n",
    "    return HTMLResponse(str(texts))\n",
    "\n",
    "\n",
    "if __name__ == '__main__':\n",
    "    uvicorn.run(app=app, host='0.0.0.0', port=1997)"
   ]
  }
 ],
 "metadata": {
  "kernelspec": {
   "display_name": "Python 3",
   "language": "python",
   "name": "python3"
  },
  "language_info": {
   "codemirror_mode": {
    "name": "ipython",
    "version": 3
   },
   "file_extension": ".py",
   "mimetype": "text/x-python",
   "name": "python",
   "nbconvert_exporter": "python",
   "pygments_lexer": "ipython3",
   "version": "3.6.4"
  }
 },
 "nbformat": 4,
 "nbformat_minor": 2
}
